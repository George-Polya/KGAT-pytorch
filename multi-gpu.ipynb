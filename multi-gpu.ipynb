{
 "cells": [
  {
   "cell_type": "code",
   "execution_count": 1,
   "metadata": {},
   "outputs": [
    {
     "name": "stderr",
     "output_type": "stream",
     "text": [
      "/home/kimheesu/anaconda3/envs/tf2.5/lib/python3.9/site-packages/tqdm/auto.py:22: TqdmWarning: IProgress not found. Please update jupyter and ipywidgets. See https://ipywidgets.readthedocs.io/en/stable/user_install.html\n",
      "  from .autonotebook import tqdm as notebook_tqdm\n"
     ]
    }
   ],
   "source": [
    "import os\n",
    "import sys\n",
    "import random\n",
    "from time import time\n",
    "\n",
    "import pandas as pd\n",
    "from tqdm import tqdm\n",
    "import torch.nn as nn\n",
    "import torch.optim as optim\n",
    "\n",
    "from model.KGAT import KGAT\n",
    "from parser.parser_kgat import *\n",
    "from utils.log_helper import *\n",
    "from utils.metrics import *\n",
    "from utils.model_helper import *\n",
    "from data_loader.loader_kgat import DataLoaderKGAT\n"
   ]
  },
  {
   "cell_type": "code",
   "execution_count": 2,
   "metadata": {},
   "outputs": [],
   "source": [
    "import argparse\n",
    "\n",
    "args = argparse.Namespace()\n",
    "args.seed=2020\n",
    "args.data_name=\"naver-toy\"\n",
    "args.data_dir=\"datasets/\"\n",
    "args.use_pretrain=0\n",
    "args.pretrain_embedding_dir=\"datasets/pretrain/\"\n",
    "args.pretrain_model_path=\"trained_model/model.pth\"\n",
    "\n",
    "args.cf_batch_size=32\n",
    "args.kg_batch_size=32\n",
    "args.test_batch_size=10000\n",
    "\n",
    "args.embed_dim=64\n",
    "args.relation_dim=64\n",
    "args.laplacian_type=\"random-walk\"\n",
    "args.aggregation_type=\"bi-interaction\"\n",
    "args.conv_dim_list=\"[64,32,16]\"\n",
    "args.mess_dropout=\"[0.1, 0.1, 0.1]\"\n",
    "\n",
    "args.kg_l2loss_lambda=1e-5\n",
    "args.cf_l2loss_lambda=1e-5\n",
    "\n",
    "args.lr=0.0001\n",
    "args.n_epoch=1000\n",
    "args.stopping_steps=10\n",
    "\n",
    "args.cf_print_every=1\n",
    "args.kg_print_every=1\n",
    "args.evaluate_every=1\n",
    "\n",
    "args.Ks = \"[20,40,60,80,100]\"\n",
    "\n",
    "save_dir = 'trained_model/KGAT/{}/embed-dim{}_relation-dim{}_{}_{}_{}_lr{}_pretrain{}/'.format(\n",
    "        args.data_name, args.embed_dim, args.relation_dim, args.laplacian_type, args.aggregation_type,\n",
    "        '-'.join([str(i) for i in eval(args.conv_dim_list)]), args.lr, args.use_pretrain)\n",
    "args.save_dir = save_dir"
   ]
  },
  {
   "cell_type": "code",
   "execution_count": 3,
   "metadata": {},
   "outputs": [
    {
     "name": "stderr",
     "output_type": "stream",
     "text": [
      "2022-05-03 22:10:51,414 - root - INFO - Namespace(seed=2020, data_name='naver-toy', data_dir='datasets/', use_pretrain=0, pretrain_embedding_dir='datasets/pretrain/', pretrain_model_path='trained_model/model.pth', cf_batch_size=32, kg_batch_size=32, test_batch_size=10000, embed_dim=64, relation_dim=64, laplacian_type='random-walk', aggregation_type='bi-interaction', conv_dim_list='[64,32,16]', mess_dropout='[0.1, 0.1, 0.1]', kg_l2loss_lambda=1e-05, cf_l2loss_lambda=1e-05, lr=0.0001, n_epoch=1000, stopping_steps=10, cf_print_every=1, kg_print_every=1, evaluate_every=1, Ks='[20,40,60,80,100]', save_dir='trained_model/KGAT/naver-toy/embed-dim64_relation-dim64_random-walk_bi-interaction_64-32-16_lr0.0001_pretrain0/')\n"
     ]
    },
    {
     "name": "stdout",
     "output_type": "stream",
     "text": [
      "All logs will be saved to trained_model/KGAT/naver-toy/embed-dim64_relation-dim64_random-walk_bi-interaction_64-32-16_lr0.0001_pretrain0/log38.log\n"
     ]
    },
    {
     "name": "stderr",
     "output_type": "stream",
     "text": [
      "2022-05-03 22:10:53,425 - root - INFO - n_users:           13498\n",
      "2022-05-03 22:10:53,428 - root - INFO - n_items:           7285\n",
      "2022-05-03 22:10:53,429 - root - INFO - n_entities:        7348\n",
      "2022-05-03 22:10:53,429 - root - INFO - n_users_entities:  20846\n",
      "2022-05-03 22:10:53,430 - root - INFO - n_relations:       8\n",
      "2022-05-03 22:10:53,431 - root - INFO - n_h_list:          181028\n",
      "2022-05-03 22:10:53,431 - root - INFO - n_t_list:          181028\n",
      "2022-05-03 22:10:53,432 - root - INFO - n_r_list:          181028\n",
      "2022-05-03 22:10:53,433 - root - INFO - n_cf_train:        68659\n",
      "2022-05-03 22:10:53,433 - root - INFO - n_cf_test:         27569\n",
      "2022-05-03 22:10:53,434 - root - INFO - n_kg_train:        181028\n",
      "/mnt/c/Users/김희수/Documents/temp/KGAT-pytorch/data_loader/loader_kgat.py:118: RuntimeWarning: divide by zero encountered in power\n",
      "  d_inv = np.power(rowsum, -1.0).flatten()\n",
      "2022-05-03 22:10:58,887 - root - INFO - KGAT(\n",
      "  (entity_user_embed): Embedding(20846, 64)\n",
      "  (relation_embed): Embedding(8, 64)\n",
      "  (aggregator_layers): ModuleList(\n",
      "    (0): Aggregator(\n",
      "      (message_dropout): Dropout(p=0.1, inplace=False)\n",
      "      (activation): LeakyReLU(negative_slope=0.01)\n",
      "      (linear1): Linear(in_features=64, out_features=64, bias=True)\n",
      "      (linear2): Linear(in_features=64, out_features=64, bias=True)\n",
      "    )\n",
      "    (1): Aggregator(\n",
      "      (message_dropout): Dropout(p=0.1, inplace=False)\n",
      "      (activation): LeakyReLU(negative_slope=0.01)\n",
      "      (linear1): Linear(in_features=64, out_features=32, bias=True)\n",
      "      (linear2): Linear(in_features=64, out_features=32, bias=True)\n",
      "    )\n",
      "    (2): Aggregator(\n",
      "      (message_dropout): Dropout(p=0.1, inplace=False)\n",
      "      (activation): LeakyReLU(negative_slope=0.01)\n",
      "      (linear1): Linear(in_features=32, out_features=16, bias=True)\n",
      "      (linear2): Linear(in_features=32, out_features=16, bias=True)\n",
      "    )\n",
      "  )\n",
      ")\n"
     ]
    }
   ],
   "source": [
    "random.seed(args.seed)\n",
    "np.random.seed(args.seed)\n",
    "torch.manual_seed(args.seed)\n",
    "torch.cuda.manual_seed_all(args.seed)\n",
    "\n",
    "log_save_id = create_log_id(args.save_dir)\n",
    "logging_config(folder=args.save_dir, name='log{:d}'.format(log_save_id), no_console=False)\n",
    "logging.info(args)\n",
    "\n",
    "# GPU / CPU\n",
    "device = torch.device(\"cuda\" if torch.cuda.is_available() else \"cpu\")\n",
    "\n",
    "# load data\n",
    "dataloader = DataLoaderKGAT(args, logging)\n",
    "if args.use_pretrain == 1:\n",
    "    user_pre_embed = torch.tensor(dataloader.user_pre_embed)\n",
    "    item_pre_embed = torch.tensor(dataloader.item_pre_embed)\n",
    "else:\n",
    "    user_pre_embed, item_pre_embed = None, None\n",
    "\n",
    "# construct model & optimizer\n",
    "model = KGAT(args, dataloader.n_users, dataloader.n_entities, dataloader.n_relations, dataloader.A_in, user_pre_embed, item_pre_embed)\n",
    "if args.use_pretrain == 2:\n",
    "    model = load_model(model, args.pretrain_model_path)\n",
    "\n",
    "model.to(device)\n",
    "logging.info(model)\n",
    "\n",
    "cf_optimizer = optim.Adam(model.parameters(), lr=args.lr)\n",
    "kg_optimizer = optim.Adam(model.parameters(), lr=args.lr)\n",
    "\n",
    "# initialize metrics\n",
    "best_epoch = -1\n",
    "best_recall = 0\n",
    "\n",
    "Ks = eval(args.Ks)\n",
    "k_min = min(Ks)\n",
    "k_max = max(Ks)\n",
    "\n",
    "epoch_list = []\n",
    "metrics_list = {k: {'precision': [], 'recall': [], 'ndcg': []} for k in Ks}\n"
   ]
  },
  {
   "cell_type": "code",
   "execution_count": 4,
   "metadata": {},
   "outputs": [],
   "source": [
    "cf_total_loss = 0\n",
    "n_cf_batch = dataloader.n_cf_train // dataloader.cf_batch_size + 1\n",
    "\n",
    "# for iter in range(1, n_cf_batch+1):\n",
    "cf_batch_user, cf_batch_pos_item, cf_batch_neg_item = dataloader.generate_cf_batch(dataloader.train_user_dict, \n",
    "                                                                                        dataloader.cf_batch_size)"
   ]
  },
  {
   "cell_type": "code",
   "execution_count": 5,
   "metadata": {},
   "outputs": [
    {
     "data": {
      "text/plain": [
       "tensor([17500, 17497, 10207, 18331, 19938, 14901, 14597, 15116, 13387, 14218,\n",
       "        16244,  9943, 17464,  8849, 14848, 20404, 11281, 10781, 14061, 18329,\n",
       "        10711, 17252,  9787, 15072, 14759,  9068, 18909, 18326,  9997, 15394,\n",
       "        17532, 16153])"
      ]
     },
     "execution_count": 5,
     "metadata": {},
     "output_type": "execute_result"
    }
   ],
   "source": [
    "(cf_batch_user)"
   ]
  },
  {
   "cell_type": "code",
   "execution_count": 6,
   "metadata": {},
   "outputs": [
    {
     "data": {
      "text/plain": [
       "tensor([ 630, 2150, 1635, 1126, 2014,  211, 1200, 2744, 1792, 3589, 3609, 4722,\n",
       "        1544, 2329,  421, 3297, 1209, 1769, 5617, 1126, 1219, 1847, 1160, 1585,\n",
       "        1187,  130, 3148, 3274,   87, 3766, 3101, 6601])"
      ]
     },
     "execution_count": 6,
     "metadata": {},
     "output_type": "execute_result"
    }
   ],
   "source": [
    "cf_batch_pos_item"
   ]
  },
  {
   "cell_type": "code",
   "execution_count": 7,
   "metadata": {},
   "outputs": [],
   "source": [
    "from data_loader.cf_loader import CF_Dataset\n",
    "\n",
    "dataset = CF_Dataset(dataloader,  seed=args.seed, phase=\"train_user_set\")"
   ]
  },
  {
   "cell_type": "code",
   "execution_count": 8,
   "metadata": {},
   "outputs": [],
   "source": [
    "from data_loader.cf_loader import CF_DataLoader\n",
    "train_loader = CF_DataLoader(dataset, batch_size=32, shuffle=False, collate_fn=lambda batch:batch, pin_memory=False)"
   ]
  },
  {
   "cell_type": "code",
   "execution_count": 9,
   "metadata": {},
   "outputs": [
    {
     "data": {
      "text/plain": [
       "(tensor([17500, 17497, 10207, 18331, 19938, 14901, 14597, 15116, 13387, 14218,\n",
       "         16244,  9943, 17464,  8849, 14848, 20404, 11281, 10781, 14061, 18329,\n",
       "         10711, 17252,  9787, 15072, 14759,  9068, 18909, 18326,  9997, 15394,\n",
       "         17532, 16153]),\n",
       " tensor([ 630, 2150, 1635, 1126, 2014,  211, 1200, 2744, 1792, 3589, 3609, 4722,\n",
       "         1544, 2329,  421, 3297, 1209, 1769, 5617, 1126, 1219, 1847, 1160, 1585,\n",
       "         1187,  130, 3148, 3274,   87, 3766, 3101, 6601]),\n",
       " tensor([4488, 6774, 3655, 4253, 5280, 1994, 4787, 4030,  870, 2608, 3208, 6100,\n",
       "         2127, 3530, 3646,   29, 4870, 4246, 5766,  750, 3426, 1556, 6921,  339,\n",
       "         2672, 5185,  834, 3664,  712,  475,  654, 7045]))"
      ]
     },
     "execution_count": 9,
     "metadata": {},
     "output_type": "execute_result"
    }
   ],
   "source": [
    "next(iter(train_loader))"
   ]
  },
  {
   "cell_type": "markdown",
   "metadata": {},
   "source": [
    "---\n",
    "generate_kg_batch\n"
   ]
  },
  {
   "cell_type": "code",
   "execution_count": 10,
   "metadata": {},
   "outputs": [],
   "source": [
    "n_kg_batch = dataloader.n_kg_train // dataloader.kg_batch_size + 1\n",
    "kg_batch_head, kg_batch_relation, kg_batch_pos_tail, kg_batch_neg_tail = dataloader.generate_kg_batch(dataloader.train_kg_dict, dataloader.kg_batch_size, dataloader.n_users_entities)"
   ]
  },
  {
   "cell_type": "code",
   "execution_count": 11,
   "metadata": {},
   "outputs": [
    {
     "data": {
      "text/plain": [
       "tensor([20305, 20299,  5718, 15106, 14499, 15537, 12079, 13740, 17792,  5191,\n",
       "        20233,  3003, 15001,  7866,  6867, 13426,  6727, 19809,  4879, 15449,\n",
       "        14822,  3440,  5298, 16093, 20368, 17611, 15582,  1338, 14508,  1616,\n",
       "        11303,  7111])"
      ]
     },
     "execution_count": 11,
     "metadata": {},
     "output_type": "execute_result"
    }
   ],
   "source": [
    "kg_batch_head"
   ]
  },
  {
   "cell_type": "code",
   "execution_count": 15,
   "metadata": {},
   "outputs": [
    {
     "data": {
      "text/plain": [
       "tensor([0, 0, 1, 0, 0, 0, 0, 0, 0, 1, 0, 1, 0, 0, 1, 0, 1, 0, 1, 0, 0, 1, 1, 0,\n",
       "        0, 0, 0, 2, 0, 1, 0, 1])"
      ]
     },
     "execution_count": 15,
     "metadata": {},
     "output_type": "execute_result"
    }
   ],
   "source": [
    "kg_batch_relation"
   ]
  },
  {
   "cell_type": "code",
   "execution_count": 12,
   "metadata": {},
   "outputs": [],
   "source": [
    "from data_loader.kg_loader import KG_Dataset, KG_DataLoader\n",
    "kg_dataset = KG_Dataset(dataloader, seed=args.seed, phase=\"train_user_set\")\n"
   ]
  },
  {
   "cell_type": "code",
   "execution_count": 13,
   "metadata": {},
   "outputs": [],
   "source": [
    "kg_dataloader = KG_DataLoader(kg_dataset, batch_size=32, shuffle=False, collate_fn=lambda batch:batch,pin_memory=False)"
   ]
  },
  {
   "cell_type": "code",
   "execution_count": 14,
   "metadata": {},
   "outputs": [
    {
     "data": {
      "text/plain": [
       "(tensor([20305, 20299,  5718, 15106, 14499, 15537, 12079, 13740, 17792,  5191,\n",
       "         20233,  3003, 15001,  7866,  6867, 13426,  6727, 19809,  4879, 15449,\n",
       "         14822,  3440,  5298, 16093, 20368, 17611, 15582,  1338, 14508,  1616,\n",
       "         11303,  7111]),\n",
       " tensor([0, 0, 1, 0, 0, 0, 0, 0, 0, 1, 0, 1, 0, 0, 4, 0, 4, 0, 1, 0, 0, 1, 3, 0,\n",
       "         0, 0, 0, 3, 0, 1, 0, 1]),\n",
       " tensor([ 5693,  5647, 16084,  1071,  1487,  6519,  1505,  3764,  2388, 11973,\n",
       "          6858, 11443,   258,  1081,  7345,   151,  7345,  4223, 10844,   246,\n",
       "           655,  8773,  7297,  5515,  4989,  3675,  5254,  7334,  2950, 14834,\n",
       "           141, 20518]),\n",
       " tensor([ 9056,  7491, 18523,  1661, 20039, 13472,  1994, 12427, 17010,   870,\n",
       "         18992,  6100,  8065, 18757, 10057, 16413, 20630,  3733, 13958, 10724,\n",
       "          2691, 17975, 15668,  2672,  7801, 12202, 15287,  3664,  8904, 16104,\n",
       "          7045, 20835]))"
      ]
     },
     "execution_count": 14,
     "metadata": {},
     "output_type": "execute_result"
    }
   ],
   "source": [
    "next(iter(kg_dataloader))"
   ]
  },
  {
   "cell_type": "code",
   "execution_count": null,
   "metadata": {},
   "outputs": [],
   "source": []
  }
 ],
 "metadata": {
  "interpreter": {
   "hash": "4bdffd226db74f32b1e67dcb50a117797eaf84ad68693423287fabc603b29d02"
  },
  "kernelspec": {
   "display_name": "Python 3.9.12 ('tf2.5')",
   "language": "python",
   "name": "python3"
  },
  "language_info": {
   "codemirror_mode": {
    "name": "ipython",
    "version": 3
   },
   "file_extension": ".py",
   "mimetype": "text/x-python",
   "name": "python",
   "nbconvert_exporter": "python",
   "pygments_lexer": "ipython3",
   "version": "3.9.12"
  },
  "orig_nbformat": 4
 },
 "nbformat": 4,
 "nbformat_minor": 2
}
